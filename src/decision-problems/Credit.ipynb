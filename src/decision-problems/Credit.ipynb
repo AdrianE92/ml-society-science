{
 "cells": [
  {
   "cell_type": "code",
   "execution_count": 1,
   "metadata": {},
   "outputs": [],
   "source": [
    "import pandas"
   ]
  },
  {
   "cell_type": "code",
   "execution_count": 2,
   "metadata": {},
   "outputs": [],
   "source": [
    "features = ['checking account balance', 'duration', 'credit history',\n",
    "            'purpose', 'amount', 'savings', 'employment', 'installment',\n",
    "            'marital status', 'other debtors', 'residence time',\n",
    "            'property', 'age', 'other installments', 'housing', 'credits',\n",
    "            'job', 'persons', 'phone', 'foreign']\n",
    "target = 'repaid'"
   ]
  },
  {
   "cell_type": "markdown",
   "metadata": {},
   "source": [
    "Data taken from https://archive.ics.uci.edu/ml/datasets/Statlog+%28German+Credit+Data%29"
   ]
  },
  {
   "cell_type": "code",
   "execution_count": 3,
   "metadata": {},
   "outputs": [],
   "source": [
    "df = pandas.read_csv('../../data/credit/german.data', sep=' ',\n",
    "                     names=features+[target])"
   ]
  },
  {
   "cell_type": "code",
   "execution_count": 4,
   "metadata": {},
   "outputs": [],
   "source": [
    "import matplotlib.pyplot as plt"
   ]
  },
  {
   "cell_type": "code",
   "execution_count": 5,
   "metadata": {},
   "outputs": [],
   "source": [
    "%matplotlib inline"
   ]
  },
  {
   "cell_type": "code",
   "execution_count": 6,
   "metadata": {},
   "outputs": [],
   "source": [
    "def make_hist(attr):\n",
    "    vals = [d[attr].values for _,d in df.groupby('repaid')]\n",
    "    plt.hist(vals, stacked=True)"
   ]
  },
  {
   "cell_type": "code",
   "execution_count": 7,
   "metadata": {},
   "outputs": [
    {
     "data": {
      "image/png": "[encoded data removed]",
      "text/plain": [
       "<matplotlib.figure.Figure at 0x112c9e940>"
      ]
     },
     "metadata": {},
     "output_type": "display_data"
    }
   ],
   "source": [
    "make_hist('duration')"
   ]
  },
  {
   "cell_type": "code",
   "execution_count": 8,
   "metadata": {},
   "outputs": [
    {
     "data": {
      "image/png": "[encoded data removed]",
      "text/plain": [
       "<matplotlib.figure.Figure at 0x112d570f0>"
      ]
     },
     "metadata": {},
     "output_type": "display_data"
    }
   ],
   "source": [
    "make_hist('amount')"
   ]
  },
  {
   "cell_type": "code",
   "execution_count": 9,
   "metadata": {},
   "outputs": [
    {
     "data": {
      "image/png": "[encoded data removed]",
      "text/plain": [
       "<matplotlib.figure.Figure at 0x112d2e080>"
      ]
     },
     "metadata": {},
     "output_type": "display_data"
    }
   ],
   "source": [
    "make_hist('installment')"
   ]
  },
  {
   "cell_type": "code",
   "execution_count": 10,
   "metadata": {},
   "outputs": [
    {
     "data": {
      "image/png": "[encoded data removed]",
      "text/plain": [
       "<matplotlib.figure.Figure at 0x112d86a20>"
      ]
     },
     "metadata": {},
     "output_type": "display_data"
    }
   ],
   "source": [
    "make_hist('residence time')"
   ]
  },
  {
   "cell_type": "code",
   "execution_count": 11,
   "metadata": {},
   "outputs": [
    {
     "data": {
      "image/png": "[encoded data removed]",
      "text/plain": [
       "<matplotlib.figure.Figure at 0x112e01518>"
      ]
     },
     "metadata": {},
     "output_type": "display_data"
    }
   ],
   "source": [
    "make_hist('age')"
   ]
  },
  {
   "cell_type": "code",
   "execution_count": 12,
   "metadata": {},
   "outputs": [],
   "source": [
    "numerical_features = ['age', 'residence time', 'installment', 'amount', 'duration', 'persons', 'credits']\n",
    "quantitative_features = list(filter(lambda x: x not in numerical_features, features))"
   ]
  },
  {
   "cell_type": "code",
   "execution_count": 13,
   "metadata": {},
   "outputs": [],
   "source": [
    "X = pandas.get_dummies(df, columns=quantitative_features)"
   ]
  },
  {
   "cell_type": "code",
   "execution_count": 14,
   "metadata": {},
   "outputs": [],
   "source": [
    "encoded_features = list(filter(lambda x: x != target, X.columns))"
   ]
  },
  {
   "cell_type": "code",
   "execution_count": 15,
   "metadata": {},
   "outputs": [],
   "source": [
    "from sklearn.linear_model import LogisticRegression\n",
    "from sklearn.model_selection import cross_val_score, KFold\n",
    "from sklearn.metrics import confusion_matrix, accuracy_score, make_scorer"
   ]
  },
  {
   "cell_type": "code",
   "execution_count": 16,
   "metadata": {},
   "outputs": [
    {
     "data": {
      "text/plain": [
       "array([0.82, 0.7 , 0.71, 0.78, 0.75, 0.77, 0.65, 0.79, 0.73, 0.75])"
      ]
     },
     "execution_count": 16,
     "metadata": {},
     "output_type": "execute_result"
    }
   ],
   "source": [
    "cross_val_score(LogisticRegression(),\n",
    "                X[encoded_features],\n",
    "                X[target],\n",
    "                scoring=make_scorer(accuracy_score),\n",
    "                cv=10)"
   ]
  },
  {
   "cell_type": "code",
   "execution_count": 17,
   "metadata": {},
   "outputs": [
    {
     "name": "stdout",
     "output_type": "stream",
     "text": [
      "[[125  18]\n",
      " [ 34  23]]\n",
      "[[130  19]\n",
      " [ 22  29]]\n",
      "[[120  11]\n",
      " [ 42  27]]\n",
      "[[116  22]\n",
      " [ 31  31]]\n",
      "[[115  24]\n",
      " [ 29  32]]\n"
     ]
    }
   ],
   "source": [
    "for train, test in KFold(n_splits=5).split(X):\n",
    "    Xtr, Xte = X[encoded_features].iloc[train], X[encoded_features].iloc[test]\n",
    "    ytr, yte = X[target].iloc[train], X[target].iloc[test]\n",
    "    y_pred = LogisticRegression().fit(Xtr, ytr).predict(Xte)\n",
    "    print(confusion_matrix(yte, y_pred))"
   ]
  },
  {
   "cell_type": "code",
   "execution_count": 18,
   "metadata": {},
   "outputs": [],
   "source": [
    "import statsmodels.formula.api as sma"
   ]
  },
  {
   "cell_type": "code",
   "execution_count": 19,
   "metadata": {},
   "outputs": [
    {
     "data": {
      "text/plain": [
       "Index(['duration', 'amount', 'installment', 'residence time', 'age', 'credits',\n",
       "       'persons', 'repaid', 'checking account balance_A11',\n",
       "       'checking account balance_A12', 'checking account balance_A13',\n",
       "       'checking account balance_A14', 'credit history_A30',\n",
       "       'credit history_A31', 'credit history_A32', 'credit history_A33',\n",
       "       'credit history_A34', 'purpose_A40', 'purpose_A41', 'purpose_A410',\n",
       "       'purpose_A42', 'purpose_A43', 'purpose_A44', 'purpose_A45',\n",
       "       'purpose_A46', 'purpose_A48', 'purpose_A49', 'savings_A61',\n",
       "       'savings_A62', 'savings_A63', 'savings_A64', 'savings_A65',\n",
       "       'employment_A71', 'employment_A72', 'employment_A73', 'employment_A74',\n",
       "       'employment_A75', 'marital status_A91', 'marital status_A92',\n",
       "       'marital status_A93', 'marital status_A94', 'other debtors_A101',\n",
       "       'other debtors_A102', 'other debtors_A103', 'property_A121',\n",
       "       'property_A122', 'property_A123', 'property_A124',\n",
       "       'other installments_A141', 'other installments_A142',\n",
       "       'other installments_A143', 'housing_A151', 'housing_A152',\n",
       "       'housing_A153', 'job_A171', 'job_A172', 'job_A173', 'job_A174',\n",
       "       'phone_A191', 'phone_A192', 'foreign_A201', 'foreign_A202'],\n",
       "      dtype='object')"
      ]
     },
     "execution_count": 19,
     "metadata": {},
     "output_type": "execute_result"
    }
   ],
   "source": [
    "X.columns"
   ]
  },
  {
   "cell_type": "code",
   "execution_count": 20,
   "metadata": {},
   "outputs": [],
   "source": [
    "logit_features = ['age', 'duration',  'checking account balance_A11',\n",
    "       'checking account balance_A12', 'checking account balance_A13',\n",
    "       'checking account balance_A14']"
   ]
  },
  {
   "cell_type": "code",
   "execution_count": 21,
   "metadata": {},
   "outputs": [
    {
     "name": "stdout",
     "output_type": "stream",
     "text": [
      "Optimization terminated successfully.\n",
      "         Current function value: 0.523334\n",
      "         Iterations 6\n"
     ]
    }
   ],
   "source": [
    "model = sma.Logit(X[target]-1, X[logit_features]).fit()"
   ]
  },
  {
   "cell_type": "code",
   "execution_count": 22,
   "metadata": {},
   "outputs": [
    {
     "data": {
      "text/html": [
       "<table class=\"simpletable\">\n",
       "<tr>\n",
       "        <td>Model:</td>              <td>Logit</td>       <td>No. Iterations:</td>   <td>6.0000</td>  \n",
       "</tr>\n",
       "<tr>\n",
       "  <td>Dependent Variable:</td>      <td>repaid</td>      <td>Pseudo R-squared:</td>   <td>0.143</td>  \n",
       "</tr>\n",
       "<tr>\n",
       "         <td>Date:</td>        <td>2018-07-12 19:38</td>       <td>AIC:</td>        <td>1058.6687</td>\n",
       "</tr>\n",
       "<tr>\n",
       "   <td>No. Observations:</td>        <td>1000</td>             <td>BIC:</td>        <td>1088.1152</td>\n",
       "</tr>\n",
       "<tr>\n",
       "       <td>Df Model:</td>              <td>5</td>         <td>Log-Likelihood:</td>   <td>-523.33</td> \n",
       "</tr>\n",
       "<tr>\n",
       "     <td>Df Residuals:</td>           <td>994</td>           <td>LL-Null:</td>       <td>-610.86</td> \n",
       "</tr>\n",
       "<tr>\n",
       "      <td>Converged:</td>           <td>1.0000</td>           <td>Scale:</td>        <td>1.0000</td>  \n",
       "</tr>\n",
       "</table>\n",
       "<table class=\"simpletable\">\n",
       "<tr>\n",
       "                <td></td>                <th>Coef.</th>  <th>Std.Err.</th>    <th>z</th>     <th>P>|z|</th> <th>[0.025</th>  <th>0.975]</th> \n",
       "</tr>\n",
       "<tr>\n",
       "  <th>age</th>                          <td>-0.0155</td>  <td>0.0069</td>  <td>-2.2555</td> <td>0.0241</td> <td>-0.0290</td> <td>-0.0020</td>\n",
       "</tr>\n",
       "<tr>\n",
       "  <th>duration</th>                     <td>0.0374</td>   <td>0.0061</td>  <td>6.0868</td>  <td>0.0000</td> <td>0.0254</td>  <td>0.0494</td> \n",
       "</tr>\n",
       "<tr>\n",
       "  <th>checking account balance_A11</th> <td>-0.2771</td>  <td>0.2983</td>  <td>-0.9289</td> <td>0.3529</td> <td>-0.8618</td> <td>0.3076</td> \n",
       "</tr>\n",
       "<tr>\n",
       "  <th>checking account balance_A12</th> <td>-0.7863</td>  <td>0.2990</td>  <td>-2.6295</td> <td>0.0086</td> <td>-1.3723</td> <td>-0.2002</td>\n",
       "</tr>\n",
       "<tr>\n",
       "  <th>checking account balance_A13</th> <td>-1.3690</td>  <td>0.4101</td>  <td>-3.3385</td> <td>0.0008</td> <td>-2.1728</td> <td>-0.5653</td>\n",
       "</tr>\n",
       "<tr>\n",
       "  <th>checking account balance_A14</th> <td>-2.2893</td>  <td>0.3213</td>  <td>-7.1263</td> <td>0.0000</td> <td>-2.9190</td> <td>-1.6597</td>\n",
       "</tr>\n",
       "</table>"
      ],
      "text/plain": [
       "<class 'statsmodels.iolib.summary2.Summary'>\n",
       "\"\"\"\n",
       "                               Results: Logit\n",
       "============================================================================\n",
       "Model:                  Logit                No. Iterations:       6.0000   \n",
       "Dependent Variable:     repaid               Pseudo R-squared:     0.143    \n",
       "Date:                   2018-07-12 19:38     AIC:                  1058.6687\n",
       "No. Observations:       1000                 BIC:                  1088.1152\n",
       "Df Model:               5                    Log-Likelihood:       -523.33  \n",
       "Df Residuals:           994                  LL-Null:              -610.86  \n",
       "Converged:              1.0000               Scale:                1.0000   \n",
       "----------------------------------------------------------------------------\n",
       "                              Coef.  Std.Err.    z    P>|z|   [0.025  0.975]\n",
       "----------------------------------------------------------------------------\n",
       "age                          -0.0155   0.0069 -2.2555 0.0241 -0.0290 -0.0020\n",
       "duration                      0.0374   0.0061  6.0868 0.0000  0.0254  0.0494\n",
       "checking account balance_A11 -0.2771   0.2983 -0.9289 0.3529 -0.8618  0.3076\n",
       "checking account balance_A12 -0.7863   0.2990 -2.6295 0.0086 -1.3723 -0.2002\n",
       "checking account balance_A13 -1.3690   0.4101 -3.3385 0.0008 -2.1728 -0.5653\n",
       "checking account balance_A14 -2.2893   0.3213 -7.1263 0.0000 -2.9190 -1.6597\n",
       "============================================================================\n",
       "\n",
       "\"\"\""
      ]
     },
     "execution_count": 22,
     "metadata": {},
     "output_type": "execute_result"
    }
   ],
   "source": [
    "model.summary2()"
   ]
  }
 ],
 "metadata": {
  "kernelspec": {
   "display_name": "Python 3",
   "language": "python",
   "name": "python3"
  },
  "language_info": {
   "codemirror_mode": {
    "name": "ipython",
    "version": 3
   },
   "file_extension": ".py",
   "mimetype": "text/x-python",
   "name": "python",
   "nbconvert_exporter": "python",
   "pygments_lexer": "ipython3",
   "version": "3.6.4"
  }
 },
 "nbformat": 4,
 "nbformat_minor": 2
}
