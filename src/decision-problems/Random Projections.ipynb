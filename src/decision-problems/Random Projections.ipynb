{
 "cells": [
  {
   "cell_type": "code",
   "execution_count": 1,
   "metadata": {
    "scrolled": true
   },
   "outputs": [
    {
     "name": "stdout",
     "output_type": "stream",
     "text": [
      "Automatically created module for IPython interactive environment\n",
      "Training result\n",
      "KNN score: 0.802817\n",
      "LogisticRegression score: 0.746479\n",
      "Testing result\n",
      "KNN score: 0.722222\n",
      "LogisticRegression score: 0.666667\n"
     ]
    }
   ],
   "source": [
    "print(__doc__)\n",
    "import pandas\n",
    "from sklearn import datasets, neighbors, linear_model\n",
    "from sklearn.preprocessing import StandardScaler\n",
    "from sklearn.model_selection import train_test_split\n",
    "from sklearn.neighbors import KNeighborsClassifier\n",
    "from sklearn.metrics import accuracy_score\n",
    "\n",
    "features = [\"Alcohol\", \"Malic acid\", \"Ash\", \"Alcalinity of ash\",\n",
    "    \"Magnesium\", \"Total phenols\", \"Flavanoids\", \"Nonflavanoid phenols\",\n",
    "    \"Proanthocyanins\", \"Color intensity\", \"Hue\",\n",
    "    \"OD280/OD315 of diluted wines\", \"Proline\"]\n",
    "\n",
    "\n",
    "target = 'Class'\n",
    "\n",
    "df = pandas.read_csv('https://archive.ics.uci.edu/ml/machine-learning-databases/wine/wine.data', names=[target] + features)\n",
    "train_data_s, test_data_s = train_test_split(df, test_size=0.2)\n",
    "\n",
    "# Reduce number of features used\n",
    "features = [\"Alcohol\", \"Malic acid\", \"Ash\", \"Alcalinity of ash\",\n",
    "    \"Magnesium\"]\n",
    "\n",
    "model = KNeighborsClassifier(n_neighbors=3).fit(train_data_s[features], train_data_s[target])\n",
    "score = accuracy_score(test_data_s[target], model.predict(test_data_s[features]))\n",
    "\n",
    "knn = neighbors.KNeighborsClassifier()\n",
    "logistic = linear_model.LogisticRegression()\n",
    "\n",
    "print ('Training result')\n",
    "print('KNN score: %f' % knn.fit(train_data_s[features], train_data_s[target]).score(train_data_s[features], train_data_s[target]))\n",
    "print('LogisticRegression score: %f'\n",
    "      % logistic.fit(train_data_s[features], train_data_s[target]).score(train_data_s[features], train_data_s[target]))\n",
    "\n",
    "print ('Testing result')\n",
    "print('KNN score: %f' % knn.fit(train_data_s[features], train_data_s[target]).score(test_data_s[features], test_data_s[target]))\n",
    "print('LogisticRegression score: %f'\n",
    "      % logistic.fit(train_data_s[features], train_data_s[target]).score(test_data_s[features], test_data_s[target]))\n",
    "\n"
   ]
  },
  {
   "cell_type": "markdown",
   "metadata": {},
   "source": [
    "# Random projections\n",
    "\n",
    "A random projection is simply a function which has been randomly selected. In this particular case, the projection has the form $$f(x) = \\tanh(A x) $$ with $A$ being a matrix with Gaussian-distributed entries. Here $x \\in R^n$ and $A \\in R^{m \\times n}$. If $m < n$ then the projection compresses the input. If on the other hand $m >n$, the input is expanded. This means that even very simple models can classify the training data perfectly when $m$ is large enough. "
   ]
  },
  {
   "cell_type": "code",
   "execution_count": 3,
   "metadata": {},
   "outputs": [
    {
     "name": "stdout",
     "output_type": "stream",
     "text": [
      "Training result\n",
      "KNN score: 0.823944\n",
      "LogisticRegression score: 0.838028\n",
      "Testing result\n",
      "KNN score: 0.444444\n",
      "LogisticRegression score: 0.250000\n"
     ]
    },
    {
     "name": "stderr",
     "output_type": "stream",
     "text": [
      "/home/olethros/.local/lib/python3.5/site-packages/sklearn/random_projection.py:378: DataDimensionalityWarning: The number of components is higher than the number of features: n_features < n_components (5 < 1000).The dimensionality of the problem will not be reduced.\n",
      "  DataDimensionalityWarning)\n"
     ]
    }
   ],
   "source": [
    "from sklearn import random_projection\n",
    "import numpy\n",
    "\n",
    "n_p_features = 1000\n",
    "transform = random_projection.GaussianRandomProjection(n_p_features)\n",
    "X_train_new = numpy.tanh(transform.fit_transform(train_data_s[features]))\n",
    "X_test_new = numpy.tanh(transform.fit_transform(test_data_s[features]))\n",
    "\n",
    "print('Training result')\n",
    "print('KNN score: %f' % knn.fit(X_train_new, train_data_s[target]).score(X_train_new, train_data_s[target]))\n",
    "print('LogisticRegression score: %f'\n",
    "      % logistic.fit(X_train_new, train_data_s[target]).score(X_train_new, train_data_s[target]))\n",
    "\n",
    "print('Testing result')\n",
    "print('KNN score: %f' % knn.fit(X_train_new, train_data_s[target]).score(X_test_new, test_data_s[target]))\n",
    "print('LogisticRegression score: %f'\n",
    "      % logistic.fit(X_train_new, train_data_s[target]).score(X_test_new, test_data_s[target]))\n",
    "\n"
   ]
  },
  {
   "cell_type": "code",
   "execution_count": null,
   "metadata": {},
   "outputs": [],
   "source": []
  },
  {
   "cell_type": "code",
   "execution_count": null,
   "metadata": {},
   "outputs": [],
   "source": []
  }
 ],
 "metadata": {
  "kernelspec": {
   "display_name": "Python 3",
   "language": "python",
   "name": "python3"
  },
  "language_info": {
   "codemirror_mode": {
    "name": "ipython",
    "version": 3
   },
   "file_extension": ".py",
   "mimetype": "text/x-python",
   "name": "python",
   "nbconvert_exporter": "python",
   "pygments_lexer": "ipython3",
   "version": "3.5.2"
  }
 },
 "nbformat": 4,
 "nbformat_minor": 2
}
