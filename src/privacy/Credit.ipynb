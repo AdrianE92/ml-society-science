{
 "cells": [
  {
   "cell_type": "code",
   "execution_count": 1,
   "metadata": {},
   "outputs": [],
   "source": [
    "import pandas"
   ]
  },
  {
   "cell_type": "code",
   "execution_count": 2,
   "metadata": {},
   "outputs": [],
   "source": [
    "features = ['checking account balance', 'duration', 'credit history',\n",
    "            'purpose', 'amount', 'savings', 'employment', 'installment',\n",
    "            'marital status', 'other debtors', 'residence time',\n",
    "            'property', 'age', 'other installments', 'housing', 'credits',\n",
    "            'job', 'persons', 'phone', 'foreign']\n",
    "target = 'repaid'"
   ]
  },
  {
   "cell_type": "markdown",
   "metadata": {},
   "source": [
    "Data taken from https://archive.ics.uci.edu/ml/datasets/Statlog+%28German+Credit+Data%29"
   ]
  },
  {
   "cell_type": "code",
   "execution_count": 3,
   "metadata": {},
   "outputs": [],
   "source": [
    "df = pandas.read_csv('../../data/credit/german.data', sep=' ',\n",
    "                     names=features+[target])"
   ]
  },
  {
   "cell_type": "code",
   "execution_count": 4,
   "metadata": {},
   "outputs": [],
   "source": [
    "numerical_features = ['age', 'residence time', 'installment', 'amount', 'duration', 'persons', 'credits']\n",
    "quantitative_features = list(filter(lambda x: x not in numerical_features, features))"
   ]
  },
  {
   "cell_type": "code",
   "execution_count": 5,
   "metadata": {},
   "outputs": [],
   "source": [
    "X = pandas.get_dummies(df, columns=quantitative_features, drop_first=True)"
   ]
  },
  {
   "cell_type": "code",
   "execution_count": 6,
   "metadata": {},
   "outputs": [],
   "source": [
    "encoded_features = list(filter(lambda x: x != target, X.columns))"
   ]
  },
  {
   "cell_type": "code",
   "execution_count": 18,
   "metadata": {},
   "outputs": [],
   "source": [
    "from sklearn.linear_model import LogisticRegression\n",
    "from sklearn.model_selection import cross_val_score, KFold\n",
    "from sklearn.metrics import confusion_matrix, accuracy_score, make_scorer"
   ]
  },
  {
   "cell_type": "code",
   "execution_count": 19,
   "metadata": {},
   "outputs": [],
   "source": [
    "cv_accuracy = cross_val_score(LogisticRegression(),\n",
    "                X[encoded_features],\n",
    "                X[target],\n",
    "                scoring=make_scorer(accuracy_score),\n",
    "                cv=10)"
   ]
  },
  {
   "cell_type": "code",
   "execution_count": 20,
   "metadata": {},
   "outputs": [
    {
     "data": {
      "text/plain": [
       "(0.752, 0.03994996871087637)"
      ]
     },
     "execution_count": 20,
     "metadata": {},
     "output_type": "execute_result"
    }
   ],
   "source": [
    "cv_accuracy.mean(), cv_accuracy.std()"
   ]
  },
  {
   "cell_type": "markdown",
   "metadata": {},
   "source": [
    "# Add noise by flipping random indicators"
   ]
  },
  {
   "cell_type": "code",
   "execution_count": 21,
   "metadata": {},
   "outputs": [
    {
     "data": {
      "text/plain": [
       "[0, 1, 1, 0]"
      ]
     },
     "execution_count": 21,
     "metadata": {},
     "output_type": "execute_result"
    }
   ],
   "source": [
    "[a ^ b for a, b in zip((0,1,0,1), (0,0, 1,1))]"
   ]
  },
  {
   "cell_type": "code",
   "execution_count": 22,
   "metadata": {},
   "outputs": [],
   "source": [
    "flip_fraction = 0.1 # flip 10%"
   ]
  },
  {
   "cell_type": "code",
   "execution_count": 23,
   "metadata": {},
   "outputs": [],
   "source": [
    "import numpy as np"
   ]
  },
  {
   "cell_type": "code",
   "execution_count": 24,
   "metadata": {},
   "outputs": [],
   "source": [
    "X_noise = X.copy()"
   ]
  },
  {
   "cell_type": "code",
   "execution_count": null,
   "metadata": {},
   "outputs": [],
   "source": [
    "n_data = len(X_noise)\n",
    "for t in range(n_data):\n",
    "    for c in X.columns:\n",
    "        if any(c.startswith(i) for i in quantitative_features):\n",
    "            for t in range(n_data):\n",
    "                w = np.random.choice([0, 1], p=[1 - flip_fraction, flip_fraction])\n",
    "                X_noise[c].iloc[t] = X_noise[c].iloc[t] -1\n",
    "       #    if any(c.startswith(i) for i in quantitative_features):\n",
    "#        mask = np.zeros(X_noise.shape[0])\n",
    "#        mask[:int(len(mask) * flip_fraction)] = 1\n",
    "#        np.random.shuffle(mask)\n",
    "#        X_noise[c] = (X_noise[c] + mask) % 2"
   ]
  },
  {
   "cell_type": "code",
   "execution_count": 33,
   "metadata": {},
   "outputs": [],
   "source": [
    "cv_accuracy = cross_val_score(LogisticRegression(),\n",
    "                X_noise[encoded_features],\n",
    "                X_noise[target],\n",
    "                scoring=make_scorer(accuracy_score),\n",
    "                cv=10)"
   ]
  },
  {
   "cell_type": "code",
   "execution_count": 34,
   "metadata": {},
   "outputs": [
    {
     "data": {
      "text/plain": [
       "(0.731, 0.03645545226711637)"
      ]
     },
     "execution_count": 34,
     "metadata": {},
     "output_type": "execute_result"
    }
   ],
   "source": [
    "cv_accuracy.mean(), cv_accuracy.std()"
   ]
  },
  {
   "cell_type": "code",
   "execution_count": null,
   "metadata": {},
   "outputs": [],
   "source": []
  }
 ],
 "metadata": {
  "kernelspec": {
   "display_name": "Python 3",
   "language": "python",
   "name": "python3"
  },
  "language_info": {
   "codemirror_mode": {
    "name": "ipython",
    "version": 3
   },
   "file_extension": ".py",
   "mimetype": "text/x-python",
   "name": "python",
   "nbconvert_exporter": "python",
   "pygments_lexer": "ipython3",
   "version": "3.5.2"
  }
 },
 "nbformat": 4,
 "nbformat_minor": 2
}
