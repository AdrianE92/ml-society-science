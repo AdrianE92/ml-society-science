{
 "cells": [
  {
   "cell_type": "code",
   "execution_count": 47,
   "metadata": {},
   "outputs": [],
   "source": [
    "import numpy as np\n",
    "import pandas\n",
    "\n",
    "features = pandas.read_csv('../../data/medical/historical_X.dat', header=None, sep=\" \").values\n",
    "actions = pandas.read_csv('../../data/medical/historical_A.dat', header=None, sep=\" \").values\n",
    "outcome = pandas.read_csv('../../data/medical/historical_Y.dat', header=None, sep=\" \").values\n",
    "observations = features[:, :128]\n",
    "labels = features[:,128] + features[:,129]*2"
   ]
  },
  {
   "cell_type": "code",
   "execution_count": 48,
   "metadata": {},
   "outputs": [
    {
     "data": {
      "text/plain": [
       "LogisticRegression(C=1.0, class_weight=None, dual=False, fit_intercept=True,\n",
       "          intercept_scaling=1, max_iter=100, multi_class='ovr', n_jobs=1,\n",
       "          penalty='l2', random_state=None, solver='liblinear', tol=0.0001,\n",
       "          verbose=0, warm_start=False)"
      ]
     },
     "execution_count": 48,
     "metadata": {},
     "output_type": "execute_result"
    }
   ],
   "source": [
    "# Are some features more predictive of disease symptoms?\n",
    "from sklearn.linear_model import LogisticRegression\n",
    "from sklearn.model_selection import cross_val_score, KFold\n",
    "from sklearn.metrics import confusion_matrix, accuracy_score, make_scorer\n",
    "import matplotlib.pyplot as plt\n",
    "%matplotlib inline\n",
    "\n",
    "clf = LogisticRegression()\n",
    "clf.fit(observations, labels)\n"
   ]
  },
  {
   "cell_type": "code",
   "execution_count": 52,
   "metadata": {},
   "outputs": [
    {
     "data": {
      "text/plain": [
       "ExtraTreesClassifier(bootstrap=True, class_weight=None, criterion='gini',\n",
       "           max_depth=None, max_features='auto', max_leaf_nodes=None,\n",
       "           min_impurity_decrease=0.0, min_impurity_split=None,\n",
       "           min_samples_leaf=1, min_samples_split=2,\n",
       "           min_weight_fraction_leaf=0.0, n_estimators=250, n_jobs=1,\n",
       "           oob_score=False, random_state=0, verbose=0, warm_start=False)"
      ]
     },
     "execution_count": 52,
     "metadata": {},
     "output_type": "execute_result"
    }
   ],
   "source": [
    "from sklearn.ensemble import ExtraTreesClassifier\n",
    "forest = ExtraTreesClassifier(n_estimators=250,\n",
    "                              random_state=0, bootstrap=True)\n",
    "forest.fit(observations, labels)"
   ]
  },
  {
   "cell_type": "code",
   "execution_count": 55,
   "metadata": {},
   "outputs": [
    {
     "name": "stdout",
     "output_type": "stream",
     "text": [
      "Feature ranking:\n",
      "1. feature 5 (0.074413)\n",
      "2. feature 3 (0.051341)\n",
      "3. feature 113 (0.027742)\n",
      "4. feature 72 (0.015575)\n",
      "5. feature 11 (0.015558)\n",
      "6. feature 83 (0.014207)\n",
      "7. feature 1 (0.013710)\n",
      "8. feature 94 (0.013503)\n",
      "9. feature 55 (0.013465)\n",
      "10. feature 127 (0.011640)\n",
      "11. feature 71 (0.011504)\n",
      "12. feature 108 (0.011497)\n",
      "13. feature 0 (0.011461)\n",
      "14. feature 69 (0.011074)\n",
      "15. feature 66 (0.011044)\n",
      "16. feature 52 (0.010727)\n",
      "17. feature 126 (0.010025)\n",
      "18. feature 51 (0.009928)\n",
      "19. feature 112 (0.008984)\n",
      "20. feature 4 (0.008577)\n",
      "21. feature 122 (0.007931)\n",
      "22. feature 119 (0.007926)\n",
      "23. feature 105 (0.007924)\n",
      "24. feature 87 (0.007667)\n",
      "25. feature 88 (0.007292)\n",
      "26. feature 125 (0.007164)\n",
      "27. feature 9 (0.006982)\n",
      "28. feature 13 (0.006846)\n",
      "29. feature 48 (0.006765)\n",
      "30. feature 89 (0.006613)\n",
      "31. feature 67 (0.006603)\n",
      "32. feature 90 (0.006554)\n",
      "33. feature 109 (0.006542)\n",
      "34. feature 49 (0.006540)\n",
      "35. feature 115 (0.006522)\n",
      "36. feature 111 (0.006522)\n",
      "37. feature 114 (0.006514)\n",
      "38. feature 34 (0.006506)\n",
      "39. feature 22 (0.006498)\n",
      "40. feature 6 (0.006408)\n",
      "41. feature 70 (0.006404)\n",
      "42. feature 79 (0.006333)\n",
      "43. feature 103 (0.006316)\n",
      "44. feature 53 (0.006302)\n",
      "45. feature 46 (0.006230)\n",
      "46. feature 102 (0.006199)\n",
      "47. feature 120 (0.006196)\n",
      "48. feature 92 (0.006184)\n",
      "49. feature 64 (0.006126)\n",
      "50. feature 80 (0.006120)\n",
      "51. feature 95 (0.006091)\n",
      "52. feature 16 (0.006066)\n",
      "53. feature 78 (0.006060)\n",
      "54. feature 38 (0.006056)\n",
      "55. feature 60 (0.006052)\n",
      "56. feature 76 (0.006040)\n",
      "57. feature 12 (0.006022)\n",
      "58. feature 63 (0.005999)\n",
      "59. feature 54 (0.005997)\n",
      "60. feature 116 (0.005986)\n",
      "61. feature 85 (0.005984)\n",
      "62. feature 19 (0.005978)\n",
      "63. feature 99 (0.005975)\n",
      "64. feature 58 (0.005969)\n",
      "65. feature 7 (0.005955)\n",
      "66. feature 68 (0.005953)\n",
      "67. feature 123 (0.005942)\n",
      "68. feature 30 (0.005928)\n",
      "69. feature 28 (0.005919)\n",
      "70. feature 81 (0.005916)\n",
      "71. feature 106 (0.005914)\n",
      "72. feature 35 (0.005911)\n",
      "73. feature 15 (0.005911)\n",
      "74. feature 93 (0.005904)\n",
      "75. feature 41 (0.005890)\n",
      "76. feature 77 (0.005834)\n",
      "77. feature 73 (0.005831)\n",
      "78. feature 43 (0.005823)\n",
      "79. feature 96 (0.005822)\n",
      "80. feature 50 (0.005807)\n",
      "81. feature 97 (0.005799)\n",
      "82. feature 37 (0.005783)\n",
      "83. feature 8 (0.005781)\n",
      "84. feature 42 (0.005730)\n",
      "85. feature 56 (0.005728)\n",
      "86. feature 101 (0.005727)\n",
      "87. feature 124 (0.005709)\n",
      "88. feature 25 (0.005709)\n",
      "89. feature 32 (0.005708)\n",
      "90. feature 40 (0.005698)\n",
      "91. feature 91 (0.005698)\n",
      "92. feature 44 (0.005684)\n",
      "93. feature 24 (0.005684)\n",
      "94. feature 59 (0.005674)\n",
      "95. feature 31 (0.005662)\n",
      "96. feature 110 (0.005646)\n",
      "97. feature 21 (0.005622)\n",
      "98. feature 75 (0.005621)\n",
      "99. feature 82 (0.005620)\n",
      "100. feature 104 (0.005593)\n",
      "101. feature 107 (0.005541)\n",
      "102. feature 2 (0.005538)\n",
      "103. feature 23 (0.005534)\n",
      "104. feature 100 (0.005508)\n",
      "105. feature 18 (0.005500)\n",
      "106. feature 26 (0.005493)\n",
      "107. feature 29 (0.005491)\n",
      "108. feature 86 (0.005488)\n",
      "109. feature 117 (0.005484)\n",
      "110. feature 118 (0.005474)\n",
      "111. feature 14 (0.005464)\n",
      "112. feature 36 (0.005462)\n",
      "113. feature 39 (0.005455)\n",
      "114. feature 57 (0.005449)\n",
      "115. feature 33 (0.005436)\n",
      "116. feature 84 (0.005434)\n",
      "117. feature 20 (0.005419)\n",
      "118. feature 27 (0.005412)\n",
      "119. feature 61 (0.005396)\n",
      "120. feature 45 (0.005362)\n",
      "121. feature 74 (0.005334)\n",
      "122. feature 62 (0.005308)\n",
      "123. feature 121 (0.005288)\n",
      "124. feature 17 (0.005241)\n",
      "125. feature 65 (0.005226)\n",
      "126. feature 47 (0.005175)\n",
      "127. feature 98 (0.005002)\n",
      "128. feature 10 (0.004968)\n"
     ]
    },
    {
     "data": {
      "image/png": "[encoded data removed]",
      "text/plain": [
       "<Figure size 432x288 with 1 Axes>"
      ]
     },
     "metadata": {},
     "output_type": "display_data"
    }
   ],
   "source": [
    "importances = forest.feature_importances_\n",
    "std = np.std([tree.feature_importances_ for tree in forest.estimators_],\n",
    "             axis=0)\n",
    "indices = np.argsort(importances)[::-1]\n",
    "\n",
    "# Print the feature ranking\n",
    "print(\"Feature ranking:\")\n",
    "\n",
    "for f in range(observations.shape[1]):\n",
    "    print(\"%d. feature %d (%f)\" % (f + 1, indices[f], importances[indices[f]]))\n",
    "\n",
    "# Plot the feature importances of the forest\n",
    "plt.figure()\n",
    "plt.title(\"Feature importances\")\n",
    "plt.bar(range(observations.shape[1]), importances[indices],\n",
    "       color=\"r\", yerr=std[indices], align=\"center\")\n",
    "plt.xticks(range(observations.shape[1]), indices)\n",
    "plt.xlim([-1, observations.shape[1]])\n",
    "plt.show()"
   ]
  },
  {
   "cell_type": "markdown",
   "metadata": {},
   "source": [
    "# Run a (Bayesian?) clustering algorithm"
   ]
  },
  {
   "cell_type": "code",
   "execution_count": 56,
   "metadata": {},
   "outputs": [],
   "source": [
    "from sklearn import mixture\n",
    "from sklearn.model_selection import train_test_split\n",
    "\n",
    "# Since we cannot use the marginal likelihood, we can run train-test splits instead to calculate the likelihood on the test set\n",
    "[X_train, X_test, y_train, y_test] = train_test_split(observations, labels)"
   ]
  },
  {
   "cell_type": "code",
   "execution_count": 58,
   "metadata": {},
   "outputs": [
    {
     "name": "stdout",
     "output_type": "stream",
     "text": [
      "1 -32.31670986948105\n",
      "2 -26.869103109522346\n",
      "3 -22.421317294576937\n",
      "4 -19.574322002087072\n",
      "5 -18.190643544866795\n",
      "6 -14.188253663370928\n",
      "7 -14.67897555409466\n"
     ]
    }
   ],
   "source": [
    "# sadly there is no way to see what the posterior over the components is. The Bayesian model is too much of a black box.\n",
    "#estimator = mixture.BayesianGaussianMixture(weight_concentration_prior_type=\"dirichlet_process\",\n",
    "#        n_components=4, n_init=3, max_iter=1000)\n",
    "# So, we are using a simple GMM instead. I assume that different y values correspond to a different model\n",
    "for components in range(1,8):\n",
    "    estimator = mixture.GaussianMixture(n_components=components, n_init=3, max_iter=1000)\n",
    "    estimator.fit(X_train, y_train)\n",
    "    score =  estimator.score(X_test, y_test)\n",
    "    print(components, score)\n"
   ]
  },
  {
   "cell_type": "markdown",
   "metadata": {},
   "source": [
    "# Discussion of the results\n",
    "The likelihood on the test data seems to increase with the number of cluster components, even though we know that there are only two clusters. This is probably due to the fact that the underlying distribution is not normal. "
   ]
  },
  {
   "cell_type": "markdown",
   "metadata": {},
   "source": [
    "# Use PyMC for Bayesian clustering"
   ]
  },
  {
   "cell_type": "code",
   "execution_count": null,
   "metadata": {},
   "outputs": [],
   "source": [
    "# Try and transform univariate normal into multivariate example -- This is example 1 --\n",
    "import pymc3 as pm, theano.tensor as tt\n",
    "# setup model\n",
    "model = pm.Model()\n",
    "n_clusters = 2\n",
    "n_dim = 130\n",
    "with model:\n",
    "    # cluster sizes\n",
    "    p = pm.Dirichlet('p', a=np.ones(n_clusters), shape=n_clusters)\n",
    "    \n",
    "    # cluster centers\n",
    "    cov = np.identity(n_dim)\n",
    "    mu = np.zeros(n_dim)\n",
    "\n",
    "    means = pm.MvNormal('means', mu=mu, cov=cov, shape=n_clusters)\n",
    "    \n",
    "    # measurement error\n",
    "    sd = pm.Exponential('sd')\n",
    "    \n",
    "    # latent cluster of each observation\n",
    "    category = pm.Categorical('category',\n",
    "                              p=p,\n",
    "                              shape=ndata)\n",
    "\n",
    "    # likelihood for each observed value\n",
    "    points = pm.Normal('obs',\n",
    "                       mu=means[category],\n",
    "                       sd=sd,\n",
    "                       observed=data)\n"
   ]
  },
  {
   "cell_type": "code",
   "execution_count": null,
   "metadata": {},
   "outputs": [],
   "source": [
    "## This is a different example, let's try and adapt this as well.\n",
    "# Multivariate example\n",
    "N_COMPONENTS = 5\n",
    "N_SAMPLES, N_DIMS = target_data.shape\n",
    "\n",
    "# Dirichilet prior.\n",
    "ALPHA_0 = np.ones(N_COMPONENTS)\n",
    "# Component means prior.\n",
    "MU_0 = np.zeros(N_DIMS)\n",
    "LAMB_0 = 2. * np.eye(N_DIMS)\n",
    "# Components precision prior.\n",
    "BETA_0, BETA_1 = .1, 2.    # Covariance stds prior uniform limits.\n",
    "L_0 = 5.       # LKJ corr. shape. Larger shape -> more biased to identity.\n",
    "\n",
    "# In order to convert the upper triangular correlation values to a\n",
    "# complete correlation matrix, we need to construct an index matrix:\n",
    "# Source: http://stackoverflow.com/q/29759789/1901296\n",
    "N_ELEMS = N_DIMS * (N_DIMS - 1) / 2\n",
    "tri_index = np.zeros([N_DIMS, N_DIMS], dtype=int)\n",
    "tri_index[np.triu_indices(N_DIMS, k=1)] = np.arange(N_ELEMS)\n",
    "tri_index[np.triu_indices(N_DIMS, k=1)[::-1]] = np.arange(N_ELEMS)\n",
    "\n",
    "with pm.Model() as model:\n",
    "    # Component weight prior.\n",
    "    pi = pm.Dirichlet('pi', ALPHA_0, testval=np.ones(N_COMPONENTS) / N_COMPONENTS)\n",
    "    #pi_potential = pm.Potential('pi_potential', tensor.switch(tensor.min(pi) < .01, -np.inf, 0))\n",
    "\n",
    "    ###################\n",
    "    # Components plate.\n",
    "    ###################\n",
    "    # Component means.\n",
    "    mus = [pm.MvNormal('mu_{}'.format(i), MU_0, LAMB_0, shape=N_DIMS)\n",
    "           for i in range(N_COMPONENTS)]\n",
    "\n",
    "    # Component precisions.\n",
    "    #lamb = diag(sigma) * corr(corr_shape) * diag(sigma)\n",
    "    corr_vecs = [\n",
    "            pm.LKJCorr('corr_vec_{}'.format(i), L_0, N_DIMS)\n",
    "            for i in range(N_COMPONENTS)\n",
    "    ]\n",
    "    # Transform the correlation vector representations to matrices.\n",
    "    corrs = [\n",
    "        tensor.fill_diagonal(corr_vecs[i][tri_index], 1.)\n",
    "        for i in range(N_COMPONENTS)\n",
    "    ]\n",
    "    # Stds for the correlation matrices.\n",
    "    cov_stds = pm.Uniform('cov_stds', BETA_0, BETA_1, shape=(N_COMPONENTS, N_DIMS))\n",
    "    # Finally re-compose the covariance matrices using diag(sigma) * corr * diag(sigma)\n",
    "    # Source http://austinrochford.com/posts/2015-09-16-mvn-pymc3-lkj.html\n",
    "    lambs = []\n",
    "    for i in range(N_COMPONENTS):\n",
    "        std_diag = tensor.diag(cov_stds[i])\n",
    "        cov = std_diag.dot(corrs[i]).dot(std_diag)\n",
    "        lambs.append(tensor.nlinalg.matrix_inverse(cov))\n",
    "\n",
    "    stacked_mus = tensor.stack(mus)\n",
    "    stacked_lambs = tensor.stack(lambs)\n",
    "\n",
    "    #####################\n",
    "    # Observations plate.\n",
    "    #####################\n",
    "    z = pm.Categorical('z', pi, shape=N_SAMPLES)\n",
    "\n",
    "    y = pm.MvNormal('y', stacked_mus[z], stacked_lambs[z], observed=target_data)"
   ]
  },
  {
   "cell_type": "code",
   "execution_count": null,
   "metadata": {},
   "outputs": [],
   "source": []
  }
 ],
 "metadata": {
  "kernelspec": {
   "display_name": "Python 3",
   "language": "python",
   "name": "python3"
  },
  "language_info": {
   "codemirror_mode": {
    "name": "ipython",
    "version": 3
   },
   "file_extension": ".py",
   "mimetype": "text/x-python",
   "name": "python",
   "nbconvert_exporter": "python",
   "pygments_lexer": "ipython3",
   "version": "3.5.2"
  }
 },
 "nbformat": 4,
 "nbformat_minor": 2
}
