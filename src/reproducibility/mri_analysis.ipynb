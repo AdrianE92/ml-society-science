{
 "cells": [
  {
   "cell_type": "code",
   "execution_count": 1,
   "metadata": {},
   "outputs": [
    {
     "ename": "NameError",
     "evalue": "name 'error_probability' is not defined",
     "output_type": "error",
     "traceback": [
      "\u001b[0;31m---------------------------------------------------------------------------\u001b[0m",
      "\u001b[0;31mNameError\u001b[0m                                 Traceback (most recent call last)",
      "\u001b[0;32m<ipython-input-1-2a4bde9b3ece>\u001b[0m in \u001b[0;36m<module>\u001b[0;34m()\u001b[0m\n\u001b[1;32m      4\u001b[0m \u001b[0msignal_level\u001b[0m \u001b[0;34m=\u001b[0m \u001b[0;36m0.1\u001b[0m\u001b[0;34m\u001b[0m\u001b[0m\n\u001b[1;32m      5\u001b[0m \u001b[0mnoise_level\u001b[0m \u001b[0;34m=\u001b[0m \u001b[0;36m0.1\u001b[0m\u001b[0;34m\u001b[0m\u001b[0m\n\u001b[0;32m----> 6\u001b[0;31m \u001b[0merror_probability\u001b[0m\u001b[0;34m\u001b[0m\u001b[0m\n\u001b[0m",
      "\u001b[0;31mNameError\u001b[0m: name 'error_probability' is not defined"
     ]
    }
   ],
   "source": [
    "# Set up parameters for image generation\n",
    "width=256\n",
    "height=256\n",
    "positive_signal_level = 0.1 # how much signal to add for positive and negative observations\n",
    "negative_signal_level = 0.1 # how much signal to add for positive and negative observations\n",
    "noise_level = 0.1 # how much noise to add\n",
    "error_probability = 0.1 # the probability of making an error for individual points"
   ]
  },
  {
   "cell_type": "code",
   "execution_count": null,
   "metadata": {},
   "outputs": [],
   "source": [
    "# plotting\n",
    "\n",
    "from matplotlib import pyplot as plt\n",
    "%matplotlib inline\n",
    "fig = plt.figure()\n",
    "plt.title(\"Test figure\")\n",
    "plt.plot([1, 2], [2, 1])"
   ]
  },
  {
   "cell_type": "code",
   "execution_count": null,
   "metadata": {},
   "outputs": [],
   "source": [
    "# Import an image!\n",
    "import matplotlib.image as mpimg\n",
    "img=mpimg.imread('../../data/fmri/mri-test1.png')\n",
    "plt.imshow(img)\n",
    "x_dimension = img.shape[0]\n",
    "y_dimension = img.shape[1]"
   ]
  },
  {
   "cell_type": "code",
   "execution_count": null,
   "metadata": {},
   "outputs": [],
   "source": [
    "# Add noise to it\n",
    "import numpy as np\n",
    "noise = np.random.normal(size=img.shape, scale=noise_level)\n",
    "plt.imshow(img + noise)"
   ]
  },
  {
   "cell_type": "code",
   "execution_count": null,
   "metadata": {},
   "outputs": [],
   "source": [
    "#OK, let us now use this idea to create two types of images.\n",
    "def generate_image(xloc, yloc, signal, noise, src_img):\n",
    "    img= src_img.copy() + np.random.normal(size=src_img.shape, scale=noise)\n",
    "    img[xloc:xloc+30,yloc:yloc+30] += signal\n",
    "    return img\n",
    "\n",
    "plt.figure(1)\n",
    "plt.imshow(generate_image(150, 130, signal=signal_level, noise=noise_level, src_img=img))\n",
    "plt.figure(2)\n",
    "plt.imshow(generate_image(160, 100, signal=signal_level, noise=noise_level, src_img=img))"
   ]
  },
  {
   "cell_type": "code",
   "execution_count": 2,
   "metadata": {},
   "outputs": [
    {
     "ename": "ImportError",
     "evalue": "No module named pandas",
     "output_type": "error",
     "traceback": [
      "\u001b[0;31m---------------------------------------------------------------------------\u001b[0m",
      "\u001b[0;31mImportError\u001b[0m                               Traceback (most recent call last)",
      "\u001b[0;32m<ipython-input-2-4d53a58e8cd6>\u001b[0m in \u001b[0;36m<module>\u001b[0;34m()\u001b[0m\n\u001b[1;32m      4\u001b[0m \u001b[0mn_negative\u001b[0m \u001b[0;34m=\u001b[0m \u001b[0;36m1\u001b[0m\u001b[0;34m\u001b[0m\u001b[0m\n\u001b[1;32m      5\u001b[0m \u001b[0;34m\u001b[0m\u001b[0m\n\u001b[0;32m----> 6\u001b[0;31m \u001b[0;32mimport\u001b[0m \u001b[0mpandas\u001b[0m \u001b[0;32mas\u001b[0m \u001b[0mpd\u001b[0m\u001b[0;34m\u001b[0m\u001b[0m\n\u001b[0m\u001b[1;32m      7\u001b[0m \u001b[0mdata\u001b[0m \u001b[0;34m=\u001b[0m \u001b[0mpd\u001b[0m\u001b[0;34m.\u001b[0m\u001b[0mDataFrame\u001b[0m\u001b[0;34m(\u001b[0m\u001b[0;34m)\u001b[0m\u001b[0;34m\u001b[0m\u001b[0m\n\u001b[1;32m      8\u001b[0m \u001b[0mlabels\u001b[0m \u001b[0;34m=\u001b[0m \u001b[0mnp\u001b[0m\u001b[0;34m.\u001b[0m\u001b[0mempty\u001b[0m\u001b[0;34m(\u001b[0m\u001b[0mn_subjects\u001b[0m\u001b[0;34m*\u001b[0m\u001b[0;34m(\u001b[0m\u001b[0mn_positive\u001b[0m \u001b[0;34m+\u001b[0m \u001b[0mn_negative\u001b[0m\u001b[0;34m)\u001b[0m\u001b[0;34m)\u001b[0m\u001b[0;34m\u001b[0m\u001b[0m\n",
      "\u001b[0;31mImportError\u001b[0m: No module named pandas"
     ]
    }
   ],
   "source": [
    "# Create a few example images\n",
    "n_subjects = 100\n",
    "n_positive = 1\n",
    "n_negative = 1\n",
    "\n",
    "import pandas as pd\n",
    "data = pd.DataFrame()\n",
    "labels = np.empty(n_subjects*(n_positive + n_negative))\n",
    "i = 0\n",
    "for subject in range(n_subjects):\n",
    "    positive_x = np.int(160 + np.random.random_sample()*30)\n",
    "    positive_y = np.int(100 + np.random.random_sample()*30)\n",
    "    negative_x = np.int(150 + np.random.random_sample()*30)\n",
    "    negative_y = np.int(130 + np.random.random_sample()*30)\n",
    "    for k in range(n_positive):\n",
    "        X = generate_image(positive_x, positive_y, signal=positive_signal_level, noise=noise_level, src_img=img)\n",
    "        data = data.append(pd.Series(X.reshape(-1)), ignore_index=True)\n",
    "        labels[i] = 1; i+=1\n",
    "    for k in range(n_negative):\n",
    "        X = generate_image(negative_x, negative_y, signal=positive_signal_level, noise=noise_level, src_img=img)\n",
    "        data = data.append(pd.Series(X.reshape(-1)), ignore_index=True)\n",
    "        labels[i] = 0; i+=1\n",
    "\n",
    "# add a new column with the labels\n",
    "#full_data = data\n",
    "#full_data['label'] = labels"
   ]
  },
  {
   "cell_type": "code",
   "execution_count": null,
   "metadata": {},
   "outputs": [],
   "source": [
    "n_examples = data.shape[0]\n",
    "total_positive = 0\n",
    "total_negative = 0\n",
    "mean_positive = np.empty([x_dimension, y_dimension])\n",
    "mean_negative = np.empty([x_dimension, y_dimension])\n",
    "\n",
    "for i in range(n_examples):\n",
    "    example = data.iloc[[i]].values.reshape(x_dimension, y_dimension)\n",
    "    if (labels[i]==1):        \n",
    "        mean_positive += example\n",
    "        total_positive +=1\n",
    "    else:\n",
    "        mean_negative += example\n",
    "        total_negative +=1\n",
    "        \n",
    "mean_positive /= total_positive\n",
    "mean_negative /= total_negative\n"
   ]
  },
  {
   "cell_type": "code",
   "execution_count": null,
   "metadata": {},
   "outputs": [],
   "source": [
    "plt.figure(1); plt.imshow(mean_negative-mean_positive)\n",
    "mean_negative - mean_positive"
   ]
  },
  {
   "cell_type": "code",
   "execution_count": null,
   "metadata": {},
   "outputs": [],
   "source": [
    "import scipy.stats\n",
    "\n",
    "tail = scipy.stats.norm.interval(1 - error_probability, scale=noise_level / n_examples)\n",
    "i = 0\n"
   ]
  }
 ],
 "metadata": {
  "kernelspec": {
   "display_name": "Python 3",
   "language": "python",
   "name": "python3"
  },
  "language_info": {
   "codemirror_mode": {
    "name": "ipython",
    "version": 2
   },
   "file_extension": ".py",
   "mimetype": "text/x-python",
   "name": "python",
   "nbconvert_exporter": "python",
   "pygments_lexer": "ipython2",
   "version": "2.7.16"
  }
 },
 "nbformat": 4,
 "nbformat_minor": 2
}
